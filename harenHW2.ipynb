{
 "cells": [
  {
   "cell_type": "code",
   "execution_count": null,
   "metadata": {},
   "outputs": [],
   "source": [
    "#imports\n",
    "import pandas as pd\n",
    "from tkinter import *\n",
    "from tkinter.ttk import *\n",
    "import xlrd\n",
    "from Helper1 import symbolAndMass, atomCount, molesAndCompound"
   ]
  },
  {
   "cell_type": "code",
   "execution_count": null,
   "metadata": {},
   "outputs": [],
   "source": [
    "#reading in periodic table\n",
    "all_masses = symbolAndMass('PeriodicTableData.xlsx')"
   ]
  },
  {
   "cell_type": "code",
   "execution_count": null,
   "metadata": {},
   "outputs": [],
   "source": [
    "#need function to grab user inputs\n",
    "def get_inputs():\n",
    "    top_inputs = [reac1.get(),reac2.get(),reac3.get(),prod1.get(),prod2.get(),prod3.get()]\n",
    "    \n",
    "    for x in range(6):\n",
    "        if top_inputs[x] == '': #if input is blank, input=0\n",
    "            top_inputs[x] = 0\n",
    "    bottom_inputs = [reac4.get(),reac5.get(),reac6.get(),prod4.get(),prod5.get(),prod6.get()]\n",
    "    \n",
    "    for y in range(6):\n",
    "        if bottom_inputs[y] == '': #same as above\n",
    "            bottom_inputs[y] = 0\n",
    "    return top_inputs, bottom_inputs"
   ]
  },
  {
   "cell_type": "code",
   "execution_count": null,
   "metadata": {},
   "outputs": [],
   "source": [
    "#need function to get moles and compounds in list\n",
    "def get_moles_compounds():\n",
    "    moles_a_comp = []\n",
    "    top_inputs, bottom_inputs = get_inputs()\n",
    "    \n",
    "    for item in top_inputs:\n",
    "        item = str(item)\n",
    "        mc = molesAndCompound(item) \n",
    "        moles_a_comp.append(mc) #using pre-made function to strip off moles and separate from compounds   \n",
    "    return moles_a_comp"
   ]
  },
  {
   "cell_type": "code",
   "execution_count": null,
   "metadata": {},
   "outputs": [],
   "source": [
    "#need to now grab only moles\n",
    "def get_moles():\n",
    "    moles_a_comp = get_moles_compounds()\n",
    "    moles = []\n",
    "    for x in range(6):\n",
    "        moles.append(moles_a_comp[x][0])\n",
    "    return moles"
   ]
  },
  {
   "cell_type": "code",
   "execution_count": null,
   "metadata": {},
   "outputs": [],
   "source": [
    "#and once more for compounds only\n",
    "def get_compounds():\n",
    "    moles_a_comp = get_moles_compounds()\n",
    "    compounds = []\n",
    "    for x in range(6):\n",
    "        compounds.append(moles_a_comp[x][1])\n",
    "    return compounds"
   ]
  },
  {
   "cell_type": "code",
   "execution_count": null,
   "metadata": {},
   "outputs": [],
   "source": [
    "#next, calculate molar mass for each compound\n",
    "def get_AMU():\n",
    "    compounds = get_compounds()\n",
    "    raw_amu = []\n",
    "    for x in range(6):\n",
    "        raw_amu.append(atomCount(compounds[x]))\n",
    "    \n",
    "    all_amus = []\n",
    "    \n",
    "    for item in raw_amu:\n",
    "        totalmass = 0\n",
    "        for key, value in item.items():\n",
    "            mass = all_masses[str(key)]\n",
    "            mass = float(mass) * value\n",
    "            totalmass += mass\n",
    "        all_amus.append(totalmass)\n",
    "    \n",
    "    return all_amus"
   ]
  },
  {
   "cell_type": "code",
   "execution_count": null,
   "metadata": {},
   "outputs": [],
   "source": [
    "#now multiply molar mass by number of moles\n",
    "def get_total_AMU():\n",
    "    moles = get_moles()\n",
    "    amus = get_AMU()\n",
    "    total_AMU = [a*b for a,b in zip(moles,amus)]\n",
    "    return total_AMU"
   ]
  },
  {
   "cell_type": "code",
   "execution_count": null,
   "metadata": {},
   "outputs": [],
   "source": [
    "#next, calculate user inputted grams/molar mass\n",
    "def calculate_Moles():\n",
    "    top_inputs, bottom_inputs = get_inputs()\n",
    "    total_AMU = get_total_AMU()\n",
    "    \n",
    "    Moles = []\n",
    "    for a,b in zip(bottom_inputs, total_AMU):\n",
    "        if b == 0:\n",
    "            Moles.append(0)\n",
    "        else:\n",
    "            Moles.append(float(a)/b)\n",
    "    return Moles"
   ]
  },
  {
   "cell_type": "code",
   "execution_count": null,
   "metadata": {},
   "outputs": [],
   "source": [
    "#now we need a function to calculate the moles needed of each inputted compound,\n",
    "#and we need to insert these values into the output boxes\n",
    "def get_unknowns():\n",
    "    top_inputs, grams = get_inputs()\n",
    "    moles = get_moles()\n",
    "    Moles = calculate_Moles()\n",
    "    \n",
    "    output_list = []\n",
    "    \n",
    "    for x in range(len(grams)):\n",
    "        if grams[x] != 0: \n",
    "            input_pos = x\n",
    "    \n",
    "    input_pos_mole = moles[input_pos] #input pos = 1\n",
    "\n",
    "    for y in range(6):\n",
    "        p = moles[y] / moles[input_pos]\n",
    "        h = p * Moles[input_pos]\n",
    "        output_list.append(h)\n",
    "    \n",
    "    if checkb.state() != (): #if checkbox checked, convert moles to molecules\n",
    "        for value in range(len(output_list)):\n",
    "            output_list[value] = output_list[value] * (6.022 * (10**23))\n",
    "    \n",
    "    #flush old output so the new doesn't append to it\n",
    "    clear_output()\n",
    "    \n",
    "    #inserting these values into the output boxes\n",
    "    reac4.insert(0, str(output_list[0]))\n",
    "    reac5.insert(0, str(output_list[1]))\n",
    "    reac6.insert(0, str(output_list[2]))\n",
    "    prod4.insert(0, str(output_list[3]))\n",
    "    prod5.insert(0, str(output_list[4]))\n",
    "    prod6.insert(0, str(output_list[5]))\n",
    "    \n",
    "    label_text = 'grams inputted: ' + str(grams[input_pos]) + ' for compound ' + str(top_inputs[input_pos])\n",
    "    \n",
    "    inputted_text.configure(text = label_text)\n",
    "    \n",
    "    return output_list"
   ]
  },
  {
   "cell_type": "code",
   "execution_count": null,
   "metadata": {},
   "outputs": [],
   "source": [
    "def clear_output():\n",
    "    reac4.delete(0,100)\n",
    "    reac5.delete(0,100)\n",
    "    reac6.delete(0,100)\n",
    "    prod4.delete(0,100)\n",
    "    prod5.delete(0,100)\n",
    "    prod6.delete(0,100)"
   ]
  },
  {
   "cell_type": "code",
   "execution_count": null,
   "metadata": {
    "scrolled": true
   },
   "outputs": [],
   "source": [
    "#first, create window/title it/resize it\n",
    "window = Tk()\n",
    "window.title('Properties of substances')\n",
    "window.geometry('870x200')\n",
    "\n",
    "#add text label on GUI\n",
    "Label(window, text='\\n').grid(column=0,row=0)\n",
    "Label(window, text = 'Enter Reactants').place(x=75, y=0)\n",
    "Label(window, text='Enter Products').place(x=275,y=0)\n",
    "Label(window, text='Enter 1 (one) measurement of substance (g)').place(x=120,y=65)\n",
    "Label(window, text='Outputs moles (or molecules) for raw compound').place(x=120,y=115)\n",
    "\n",
    "#creating an input box\n",
    "reac1 = Entry(window, width=12)\n",
    "reac1.grid(column=1,row=1, padx=10, pady=10)\n",
    "reac2 = Entry(window, width=12)\n",
    "reac2.grid(column=2,row=1, padx=10, pady=10)\n",
    "reac3 = Entry(window, width=12)\n",
    "reac3.grid(column=3,row=1, pady=10)\n",
    "\n",
    "eBox1 = Label(window, width=1, text = '=')\n",
    "eBox1.grid(column=4, row=1, pady=10)\n",
    "\n",
    "prod1 = Entry(window, width=12)\n",
    "prod1.grid(column=5,row=1, padx=10, pady=10)\n",
    "prod2 = Entry(window, width=12)\n",
    "prod2.grid(column=6,row=1, padx=10, pady=10)\n",
    "prod3 = Entry(window, width=12)\n",
    "prod3.grid(column=7,row=1, padx=10, pady=10)\n",
    "\n",
    "reac4 = Entry(window, width=12)\n",
    "reac4.grid(column=1, row=2, pady=10)\n",
    "reac5 = Entry(window, width=12)\n",
    "reac5.grid(column=2,row=2, padx=10, pady=10)\n",
    "reac6 = Entry(window, width=12)\n",
    "reac6.grid(column=3,row=2, padx=10, pady=10)\n",
    "\n",
    "eBox2 = Label(window, width=1, text = '=')\n",
    "eBox2.grid(column=4, row=2, pady=10)\n",
    "\n",
    "prod4 = Entry(window, width=12)\n",
    "prod4.grid(column=5,row=2, padx=10, pady=10)\n",
    "prod5 = Entry(window, width=12)\n",
    "prod5.grid(column=6,row=2, padx=10, pady=10)\n",
    "prod6 = Entry(window, width=12)\n",
    "prod6.grid(column=7,row=2, padx=10, pady=10)\n",
    "\n",
    "checkb = Checkbutton(window,text='Check if wanting molecules instead of moles')\n",
    "checkb.grid(column=8,row=1)\n",
    "checkb.state(['!alternate']) #unselecting checkbox\n",
    "\n",
    "inputted_text = Label(window,text='')\n",
    "inputted_text.place(x=120,y=160)\n",
    "\n",
    "btnCell = Button(window, text=\"Compute\", command=get_unknowns)\n",
    "btnCell.grid(column = 8, row=2)\n",
    "\n",
    "btnCell = Button(window, text=\"Clear Output\", command=clear_output)\n",
    "btnCell.grid(column = 8, row=3)\n",
    "\n",
    "test_e = Label(window, text='')\n",
    "test_e.grid(column=0,row=3)\n",
    "\n",
    "window.mainloop()"
   ]
  },
  {
   "cell_type": "code",
   "execution_count": null,
   "metadata": {},
   "outputs": [],
   "source": []
  }
 ],
 "metadata": {
  "kernelspec": {
   "display_name": "Python 3",
   "language": "python",
   "name": "python3"
  },
  "language_info": {
   "codemirror_mode": {
    "name": "ipython",
    "version": 3
   },
   "file_extension": ".py",
   "mimetype": "text/x-python",
   "name": "python",
   "nbconvert_exporter": "python",
   "pygments_lexer": "ipython3",
   "version": "3.7.3"
  }
 },
 "nbformat": 4,
 "nbformat_minor": 2
}
